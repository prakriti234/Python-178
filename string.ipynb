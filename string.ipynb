{
 "cells": [
  {
   "cell_type": "code",
   "execution_count": 1,
   "id": "77dc29d8-6432-4659-bde1-a144443aa8d7",
   "metadata": {},
   "outputs": [
    {
     "data": {
      "text/plain": [
       "'h'"
      ]
     },
     "execution_count": 1,
     "metadata": {},
     "output_type": "execute_result"
    }
   ],
   "source": [
    "#indexing and slicing\n",
    "a=\"hello\"\n",
    "a[0]"
   ]
  },
  {
   "cell_type": "code",
   "execution_count": 5,
   "id": "33e35b5d-bdbe-4add-a6e7-1825ee398b0f",
   "metadata": {},
   "outputs": [
    {
     "data": {
      "text/plain": [
       "'135'"
      ]
     },
     "execution_count": 5,
     "metadata": {},
     "output_type": "execute_result"
    }
   ],
   "source": [
    "#variable[start:stop:step]\n",
    "# stop and step are excluded\n",
    "w=\"1234567\"\n",
    "w[0:5:2]"
   ]
  },
  {
   "cell_type": "code",
   "execution_count": 6,
   "id": "94e554cf-61ae-45bf-8b15-b6a2f26ba537",
   "metadata": {},
   "outputs": [
    {
     "data": {
      "text/plain": [
       "'1234567'"
      ]
     },
     "execution_count": 6,
     "metadata": {},
     "output_type": "execute_result"
    }
   ],
   "source": [
    "w[0:]"
   ]
  },
  {
   "cell_type": "code",
   "execution_count": 7,
   "id": "ce7236a7-adab-44ab-845d-c2f592acd719",
   "metadata": {},
   "outputs": [
    {
     "data": {
      "text/plain": [
       "'1357'"
      ]
     },
     "execution_count": 7,
     "metadata": {},
     "output_type": "execute_result"
    }
   ],
   "source": [
    "w[::2]"
   ]
  },
  {
   "cell_type": "code",
   "execution_count": 8,
   "id": "94912e82-79dc-4636-bebc-af46801f7c6d",
   "metadata": {},
   "outputs": [
    {
     "data": {
      "text/plain": [
       "'67'"
      ]
     },
     "execution_count": 8,
     "metadata": {},
     "output_type": "execute_result"
    }
   ],
   "source": [
    "# -indexing starts from -1\n",
    "#goes from left to right\n",
    "w[-2::]"
   ]
  },
  {
   "cell_type": "code",
   "execution_count": 10,
   "id": "b07d2ef7-681f-4f00-9cc1-f7ca17181876",
   "metadata": {},
   "outputs": [
    {
     "data": {
      "text/plain": [
       "'7654321'"
      ]
     },
     "execution_count": 10,
     "metadata": {},
     "output_type": "execute_result"
    }
   ],
   "source": [
    "w[-1::-1]"
   ]
  },
  {
   "cell_type": "code",
   "execution_count": 11,
   "id": "d71a1c2d-a749-4f0f-9663-63454676f90b",
   "metadata": {},
   "outputs": [],
   "source": [
    "t=\"there are many people in the world but i don't know any of them\""
   ]
  },
  {
   "cell_type": "code",
   "execution_count": 12,
   "id": "c69c1e33-5006-4a12-a029-c61e4b4e0637",
   "metadata": {},
   "outputs": [
    {
     "data": {
      "text/plain": [
       "15"
      ]
     },
     "execution_count": 12,
     "metadata": {},
     "output_type": "execute_result"
    }
   ],
   "source": [
    "t.find(\"people\")"
   ]
  },
  {
   "cell_type": "code",
   "execution_count": 13,
   "id": "c35c86d7-4c0c-408b-b564-347fd8287361",
   "metadata": {},
   "outputs": [
    {
     "data": {
      "text/plain": [
       "'people'"
      ]
     },
     "execution_count": 13,
     "metadata": {},
     "output_type": "execute_result"
    }
   ],
   "source": [
    "t[15:21]"
   ]
  },
  {
   "cell_type": "code",
   "execution_count": 14,
   "id": "e18fa46d-ec75-4796-8313-07873642ff04",
   "metadata": {},
   "outputs": [
    {
     "data": {
      "text/plain": [
       "47"
      ]
     },
     "execution_count": 14,
     "metadata": {},
     "output_type": "execute_result"
    }
   ],
   "source": [
    "t.find(\"know\")"
   ]
  },
  {
   "cell_type": "code",
   "execution_count": 15,
   "id": "1805523b-aa4d-496c-804a-7bb7d4f37785",
   "metadata": {},
   "outputs": [
    {
     "data": {
      "text/plain": [
       "'know any of'"
      ]
     },
     "execution_count": 15,
     "metadata": {},
     "output_type": "execute_result"
    }
   ],
   "source": [
    "t[47:58]"
   ]
  },
  {
   "cell_type": "code",
   "execution_count": 17,
   "id": "e1cf1280-d42a-470d-aaed-df6f7541ceb9",
   "metadata": {},
   "outputs": [
    {
     "data": {
      "text/plain": [
       "29"
      ]
     },
     "execution_count": 17,
     "metadata": {},
     "output_type": "execute_result"
    }
   ],
   "source": [
    "t.find(\"world\")"
   ]
  },
  {
   "cell_type": "code",
   "execution_count": 19,
   "id": "f29d2276-a91a-420f-a5bb-89ff05737ce6",
   "metadata": {},
   "outputs": [
    {
     "data": {
      "text/plain": [
       "'world'"
      ]
     },
     "execution_count": 19,
     "metadata": {},
     "output_type": "execute_result"
    }
   ],
   "source": [
    "t[29:34]"
   ]
  },
  {
   "cell_type": "code",
   "execution_count": 20,
   "id": "d073f309-7df9-4c7c-a764-0ed8946ac190",
   "metadata": {},
   "outputs": [
    {
     "data": {
      "text/plain": [
       "0"
      ]
     },
     "execution_count": 20,
     "metadata": {},
     "output_type": "execute_result"
    }
   ],
   "source": [
    "t.find(\"the\")"
   ]
  },
  {
   "cell_type": "code",
   "execution_count": 21,
   "id": "d858a1fd-69d9-4be4-8457-1aca1aa66699",
   "metadata": {},
   "outputs": [
    {
     "data": {
      "text/plain": [
       "25"
      ]
     },
     "execution_count": 21,
     "metadata": {},
     "output_type": "execute_result"
    }
   ],
   "source": [
    "t.find(\"the\",1) #counts after first index"
   ]
  },
  {
   "cell_type": "code",
   "execution_count": 22,
   "id": "88255794-ced9-4ccf-a48b-f288fa92e500",
   "metadata": {},
   "outputs": [
    {
     "data": {
      "text/plain": [
       "'are many people in the'"
      ]
     },
     "execution_count": 22,
     "metadata": {},
     "output_type": "execute_result"
    }
   ],
   "source": [
    "t[6:28]"
   ]
  },
  {
   "cell_type": "code",
   "execution_count": 23,
   "id": "84b853cb-c030-4349-9a5b-b931aa25eaaf",
   "metadata": {},
   "outputs": [
    {
     "data": {
      "text/plain": [
       "3"
      ]
     },
     "execution_count": 23,
     "metadata": {},
     "output_type": "execute_result"
    }
   ],
   "source": [
    "# count is used find no.of characters in the string\n",
    "t.count(\"a\")"
   ]
  },
  {
   "cell_type": "code",
   "execution_count": 24,
   "id": "ad16ddc0-9303-4a76-99ec-89c06d9707f3",
   "metadata": {},
   "outputs": [
    {
     "data": {
      "text/plain": [
       "13"
      ]
     },
     "execution_count": 24,
     "metadata": {},
     "output_type": "execute_result"
    }
   ],
   "source": [
    "t.count(\" \")"
   ]
  },
  {
   "cell_type": "code",
   "execution_count": 42,
   "id": "0be78654-d388-45ef-b966-9078eabb46cd",
   "metadata": {},
   "outputs": [],
   "source": [
    "s=\"hello harry, please meet me @ coffee shop or email me @ pyhton@gmail.com @11:00 am\""
   ]
  },
  {
   "cell_type": "code",
   "execution_count": 28,
   "id": "b6906785-9e61-41aa-b1e0-232a0bb50544",
   "metadata": {},
   "outputs": [
    {
     "data": {
      "text/plain": [
       "56"
      ]
     },
     "execution_count": 28,
     "metadata": {},
     "output_type": "execute_result"
    }
   ],
   "source": [
    "s.find(\"pyhton\")"
   ]
  },
  {
   "cell_type": "code",
   "execution_count": 30,
   "id": "edbebdf1-f0b6-4069-96a4-156af33b0d26",
   "metadata": {},
   "outputs": [
    {
     "data": {
      "text/plain": [
       "['hello',\n",
       " 'harry,',\n",
       " 'please',\n",
       " 'meet',\n",
       " 'me',\n",
       " '@',\n",
       " 'coffee',\n",
       " 'shop',\n",
       " 'or',\n",
       " 'email',\n",
       " 'me',\n",
       " '@',\n",
       " 'pyhton@gmail.com',\n",
       " '@11:00',\n",
       " 'am']"
      ]
     },
     "execution_count": 30,
     "metadata": {},
     "output_type": "execute_result"
    }
   ],
   "source": [
    "s.split()"
   ]
  },
  {
   "cell_type": "code",
   "execution_count": 36,
   "id": "ab22c02a-918e-4961-8079-6beee615fda8",
   "metadata": {},
   "outputs": [
    {
     "data": {
      "text/plain": [
       "'PYHTON@GMAIL.COM'"
      ]
     },
     "execution_count": 36,
     "metadata": {},
     "output_type": "execute_result"
    }
   ],
   "source": [
    "s[56:72].upper()"
   ]
  },
  {
   "cell_type": "code",
   "execution_count": 43,
   "id": "2d741ffe-f200-4463-85b1-c2fe41381c41",
   "metadata": {},
   "outputs": [
    {
     "name": "stdout",
     "output_type": "stream",
     "text": [
      "robin said to harry that hello harry, please meet me @ coffee shop or email me @ pyhton@gmail.com @11:00 am\n"
     ]
    }
   ],
   "source": [
    "a=\"robin said to harry that \"\n",
    "d=a+s\n",
    "print(d)"
   ]
  },
  {
   "cell_type": "code",
   "execution_count": 39,
   "id": "ecf41a79-0970-4551-8262-9b5becae7eef",
   "metadata": {},
   "outputs": [
    {
     "name": "stdout",
     "output_type": "stream",
     "text": [
      "hello harry, please meet me @ coffee shop or email me @ pyhton@gmail.com @11:00 am ok i'll be there\n"
     ]
    }
   ],
   "source": [
    "d=\" ok i'll be there\"\n",
    "print(s+d)"
   ]
  },
  {
   "cell_type": "code",
   "execution_count": 47,
   "id": "027297e5-89c7-4efb-a59f-d194887c1c72",
   "metadata": {},
   "outputs": [
    {
     "data": {
      "text/plain": [
       "'elpmaxE'"
      ]
     },
     "execution_count": 47,
     "metadata": {},
     "output_type": "execute_result"
    }
   ],
   "source": [
    "e=\"Example\"\n",
    "e[-1::-1]"
   ]
  },
  {
   "cell_type": "code",
   "execution_count": 48,
   "id": "fac8aea5-f642-4908-b1d3-01b07c8361e9",
   "metadata": {},
   "outputs": [
    {
     "data": {
      "text/plain": [
       "'2468'"
      ]
     },
     "execution_count": 48,
     "metadata": {},
     "output_type": "execute_result"
    }
   ],
   "source": [
    "q=\"0123456789\"\n",
    "q[2::2]"
   ]
  },
  {
   "cell_type": "code",
   "execution_count": 49,
   "id": "d0c0eeef-cf38-41fe-aaec-4fb9abb4f527",
   "metadata": {},
   "outputs": [
    {
     "data": {
      "text/plain": [
       "'hello hi, please meet me @ coffee shop or email me @ pyhton@gmail.com @11:00 am'"
      ]
     },
     "execution_count": 49,
     "metadata": {},
     "output_type": "execute_result"
    }
   ],
   "source": [
    "s.replace(\"harry\",\"hi\")"
   ]
  }
 ],
 "metadata": {
  "kernelspec": {
   "display_name": "Python 3 (ipykernel)",
   "language": "python",
   "name": "python3"
  },
  "language_info": {
   "codemirror_mode": {
    "name": "ipython",
    "version": 3
   },
   "file_extension": ".py",
   "mimetype": "text/x-python",
   "name": "python",
   "nbconvert_exporter": "python",
   "pygments_lexer": "ipython3",
   "version": "3.12.4"
  }
 },
 "nbformat": 4,
 "nbformat_minor": 5
}
