{
 "cells": [
  {
   "cell_type": "code",
   "execution_count": null,
   "id": "4bc23887-09d2-42ef-9d2a-9a02e26c84d7",
   "metadata": {},
   "outputs": [],
   "source": [
    "# add\n",
    "45+6"
   ]
  },
  {
   "cell_type": "code",
   "execution_count": 2,
   "id": "b110c792-095c-43fd-a80e-a6f8882a9381",
   "metadata": {},
   "outputs": [
    {
     "name": "stdout",
     "output_type": "stream",
     "text": [
      "66\n"
     ]
    }
   ],
   "source": [
    "print(12+54)"
   ]
  },
  {
   "cell_type": "code",
   "execution_count": 4,
   "id": "e3701385-62c1-44d6-a267-2fe4b1c108fc",
   "metadata": {},
   "outputs": [
    {
     "name": "stdout",
     "output_type": "stream",
     "text": [
      "the sum of 5 and 6 is  11\n"
     ]
    }
   ],
   "source": [
    "print(\"the sum of 5 and 6 is \",5+6)"
   ]
  },
  {
   "cell_type": "code",
   "execution_count": 6,
   "id": "11129e0f-7c44-4bd7-b634-1462b6ef3b2f",
   "metadata": {},
   "outputs": [
    {
     "name": "stdout",
     "output_type": "stream",
     "text": [
      "sum of 4 and 8 is 12\n"
     ]
    }
   ],
   "source": [
    "print(\"sum of {} and {} is {}\".format(4,8,8+4))"
   ]
  },
  {
   "cell_type": "code",
   "execution_count": 17,
   "id": "ff88dc7e-3dd6-40ce-96a6-a099ee841fab",
   "metadata": {},
   "outputs": [
    {
     "name": "stdout",
     "output_type": "stream",
     "text": [
      "square root of 81 is 9.0\n"
     ]
    }
   ],
   "source": [
    "print(\"square root of {} is {}\".format(81,81**(1/2)))"
   ]
  },
  {
   "cell_type": "code",
   "execution_count": 16,
   "id": "c54fe17b-7cf9-4f70-a9b0-871406e04b46",
   "metadata": {},
   "outputs": [
    {
     "name": "stdout",
     "output_type": "stream",
     "text": [
      "cube root of 45 is 3.56\n"
     ]
    }
   ],
   "source": [
    "print(\"cube root of {} is {}\".format(45,round(45**(1/3),2)))"
   ]
  },
  {
   "cell_type": "code",
   "execution_count": 10,
   "id": "a500fb60-1493-4929-9c0d-9ebfb39e7435",
   "metadata": {},
   "outputs": [
    {
     "name": "stdout",
     "output_type": "stream",
     "text": [
      "square of 45 is 2025\n"
     ]
    }
   ],
   "source": [
    "print(\"square of {} is {}\".format(45,45**2))"
   ]
  },
  {
   "cell_type": "code",
   "execution_count": 12,
   "id": "40e7a6c2-db54-43c8-a9fd-633acc61911c",
   "metadata": {},
   "outputs": [
    {
     "name": "stdout",
     "output_type": "stream",
     "text": [
      "cube of 54 is 157464\n"
     ]
    }
   ],
   "source": [
    "print(\"cube of {} is {}\".format(54,54**3))"
   ]
  },
  {
   "cell_type": "code",
   "execution_count": 13,
   "id": "896d2d2b-81b6-45de-baaf-2f2fb0015d23",
   "metadata": {},
   "outputs": [
    {
     "data": {
      "text/plain": [
       "45.67"
      ]
     },
     "execution_count": 13,
     "metadata": {},
     "output_type": "execute_result"
    }
   ],
   "source": [
    "round(45.6744,2)"
   ]
  },
  {
   "cell_type": "code",
   "execution_count": 30,
   "id": "98b45edf-51a9-4aa1-8a2f-23ab56fcdf0b",
   "metadata": {},
   "outputs": [
    {
     "name": "stdout",
     "output_type": "stream",
     "text": [
      "108 days and 2 hours and 49 min \n"
     ]
    }
   ],
   "source": [
    "print(\"{} days and {} hours and {} min \".format((155689//60)//24,(155689//60)%24,155689%60))"
   ]
  },
  {
   "cell_type": "code",
   "execution_count": 41,
   "id": "fdece32d-276c-43c9-ab81-7d4c74af3a26",
   "metadata": {},
   "outputs": [
    {
     "name": "stdout",
     "output_type": "stream",
     "text": [
      "16 days and 20 hours and 59 min 46 seconds  \n"
     ]
    }
   ],
   "source": [
    "print(\"{} days and {} hours and {} min {} seconds  \".format(((1457986//60)//60)//24,((1457986//60)//60)%24,(1457986//60)%60,1457986%60))"
   ]
  },
  {
   "cell_type": "code",
   "execution_count": 9,
   "id": "8f7cfc81-8bd5-45a4-9506-26059d7347e5",
   "metadata": {},
   "outputs": [
    {
     "name": "stdout",
     "output_type": "stream",
     "text": [
      "29 days and 20 hours 22 min 43 seconds \n"
     ]
    }
   ],
   "source": [
    "print(\"{} days and {} hours {} min {} seconds \".format(((2578963//60)//60)//24,((2578963//60)//60)%24,(2578963//60)%60,2578963%60))"
   ]
  },
  {
   "cell_type": "code",
   "execution_count": null,
   "id": "7d361593-bdec-4d0f-b55b-e01715fd7694",
   "metadata": {},
   "outputs": [],
   "source": [
    "#variables\n",
    "#cant start with no.\n",
    "#cant have reserved keyword name\n",
    "#no spaces in b/w"
   ]
  },
  {
   "cell_type": "code",
   "execution_count": 1,
   "id": "0713a569-c2e0-4cb5-9afb-e7a5060d1c47",
   "metadata": {},
   "outputs": [
    {
     "data": {
      "text/plain": [
       "False"
      ]
     },
     "execution_count": 1,
     "metadata": {},
     "output_type": "execute_result"
    }
   ],
   "source": [
    "#comparison operator\n",
    "# >,<,=,<=,>=,==,!=\n",
    "a=34\n",
    "b=5\n",
    "b>a\n"
   ]
  },
  {
   "cell_type": "code",
   "execution_count": 3,
   "id": "85d9b9f3-258f-44a3-93e9-42da6a3f21aa",
   "metadata": {},
   "outputs": [
    {
     "data": {
      "text/plain": [
       "True"
      ]
     },
     "execution_count": 3,
     "metadata": {},
     "output_type": "execute_result"
    }
   ],
   "source": [
    "a>=b"
   ]
  },
  {
   "cell_type": "code",
   "execution_count": 8,
   "id": "02754450-a72b-41c8-a95f-1904c3e12e96",
   "metadata": {},
   "outputs": [],
   "source": [
    "#DATA TYPES\n",
    "# int\n",
    "# float\n",
    "# str\n",
    "# bool \n",
    "q=4\n",
    "e=5.4\n",
    "f=\"hiii\"\n",
    "g=True\n"
   ]
  },
  {
   "cell_type": "code",
   "execution_count": 13,
   "id": "41963ec5-a5a5-47f6-bfc4-8d851cfbc2e4",
   "metadata": {},
   "outputs": [
    {
     "name": "stdout",
     "output_type": "stream",
     "text": [
      "<class 'int'>\n",
      "<class 'float'>\n",
      "<class 'str'>\n"
     ]
    }
   ],
   "source": [
    "#type casting\n",
    "print(type(q))\n",
    "print(type(e))\n",
    "print(type(f))"
   ]
  },
  {
   "cell_type": "code",
   "execution_count": 22,
   "id": "ba4c41c9-8473-4cd6-b14d-601384ff48d0",
   "metadata": {},
   "outputs": [
    {
     "name": "stdout",
     "output_type": "stream",
     "text": [
      "Variable   Type     Data/Info\n",
      "-----------------------------\n",
      "b          int      5\n",
      "e          float    5.4\n",
      "f          str      hiii\n",
      "g          bool     True\n"
     ]
    }
   ],
   "source": [
    "%whos"
   ]
  },
  {
   "cell_type": "code",
   "execution_count": 25,
   "id": "3477a777-347b-417b-9b99-9fa12d143b4c",
   "metadata": {
    "scrolled": true
   },
   "outputs": [
    {
     "data": {
      "text/plain": [
       "123"
      ]
     },
     "execution_count": 25,
     "metadata": {},
     "output_type": "execute_result"
    }
   ],
   "source": [
    "a=\"123\"\n",
    "int(a)"
   ]
  },
  {
   "cell_type": "code",
   "execution_count": 30,
   "id": "732bcb12-00fb-48ee-aa03-df27a53aded6",
   "metadata": {},
   "outputs": [],
   "source": [
    "a=float(a)"
   ]
  },
  {
   "cell_type": "code",
   "execution_count": 31,
   "id": "dc788233-67f5-4abe-9de2-464c63eaff75",
   "metadata": {},
   "outputs": [],
   "source": [
    "b=\"\"\"iojdxsidkcfeokcdo\n",
    "dklfceifcijfi\"\"\""
   ]
  },
  {
   "cell_type": "code",
   "execution_count": 48,
   "id": "820e0e39-983a-4a05-90c6-5913d7e513ca",
   "metadata": {},
   "outputs": [],
   "source": [
    "st=\"hello potter meet me at the shop or mail me on python@gmail.com at 9:00 am\"\n",
    "# st.lower()\n",
    "# st.upper()\n",
    "# st.title()\n",
    "# st.capitalize()\n",
    "# st.removeprefix()\n",
    "# st.removesuffix()\n",
    "# st.split()\n",
    "# st.len()"
   ]
  },
  {
   "cell_type": "code",
   "execution_count": 33,
   "id": "bb09303e-4b95-4ae1-92d5-58aa38c0a622",
   "metadata": {},
   "outputs": [
    {
     "name": "stdin",
     "output_type": "stream",
     "text": [
      " 9\n"
     ]
    }
   ],
   "source": [
    "#user input\n",
    "a=input()"
   ]
  },
  {
   "cell_type": "code",
   "execution_count": 34,
   "id": "72976b17-be84-4a5c-bf74-e38f2dde295b",
   "metadata": {},
   "outputs": [
    {
     "name": "stdout",
     "output_type": "stream",
     "text": [
      "9\n"
     ]
    }
   ],
   "source": [
    "print(a)"
   ]
  },
  {
   "cell_type": "code",
   "execution_count": 43,
   "id": "c0156d9f-996d-4322-a203-bdc651358591",
   "metadata": {},
   "outputs": [
    {
     "data": {
      "text/plain": [
       "5"
      ]
     },
     "execution_count": 43,
     "metadata": {},
     "output_type": "execute_result"
    }
   ],
   "source": [
    "s=\"hello\"\n",
    "len(s)"
   ]
  },
  {
   "cell_type": "code",
   "execution_count": 46,
   "id": "c018b5ae-11a7-478e-8a11-3ddc7b71a993",
   "metadata": {},
   "outputs": [
    {
     "name": "stdout",
     "output_type": "stream",
     "text": [
      "HELLO\n"
     ]
    }
   ],
   "source": [
    "s=s.upper()\n",
    "print(s)"
   ]
  },
  {
   "cell_type": "code",
   "execution_count": 47,
   "id": "fb3aa6a9-77f5-4836-8ab2-3e3865ed4926",
   "metadata": {},
   "outputs": [
    {
     "data": {
      "text/plain": [
       "'Hello'"
      ]
     },
     "execution_count": 47,
     "metadata": {},
     "output_type": "execute_result"
    }
   ],
   "source": [
    "s.capitalize()"
   ]
  },
  {
   "cell_type": "code",
   "execution_count": 50,
   "id": "06679f27-4ab0-43b3-b0f8-14fa53a22b9f",
   "metadata": {},
   "outputs": [
    {
     "data": {
      "text/plain": [
       "'Hello Potter Meet Me At The Shop Or Mail Me On Python@Gmail.Com At 9:00 Am'"
      ]
     },
     "execution_count": 50,
     "metadata": {},
     "output_type": "execute_result"
    }
   ],
   "source": [
    "st.title()"
   ]
  },
  {
   "cell_type": "code",
   "execution_count": 52,
   "id": "3943a66f-11a0-4f55-a527-6a902ec2a75d",
   "metadata": {},
   "outputs": [
    {
     "data": {
      "text/plain": [
       "'ello potter meet me at the shop or mail me on python@gmail.com at 9:00 am'"
      ]
     },
     "execution_count": 52,
     "metadata": {},
     "output_type": "execute_result"
    }
   ],
   "source": [
    "st.removeprefix(\"h\")"
   ]
  },
  {
   "cell_type": "code",
   "execution_count": 54,
   "id": "c2383da7-c175-41ad-baa7-3c6a8e82a9c9",
   "metadata": {},
   "outputs": [
    {
     "data": {
      "text/plain": [
       "['h',\n",
       " 'llo pott',\n",
       " 'r m',\n",
       " '',\n",
       " 't m',\n",
       " ' at th',\n",
       " ' shop or mail m',\n",
       " ' on python@gmail.com at 9:00 am']"
      ]
     },
     "execution_count": 54,
     "metadata": {},
     "output_type": "execute_result"
    }
   ],
   "source": [
    "st.split(\"e\")"
   ]
  },
  {
   "cell_type": "code",
   "execution_count": 55,
   "id": "f45c097f-4464-4809-a16b-45a403d47463",
   "metadata": {},
   "outputs": [
    {
     "data": {
      "text/plain": [
       "'hello potter meet me at the shop or mail me on python@gmail.com at 9:00 am'"
      ]
     },
     "execution_count": 55,
     "metadata": {},
     "output_type": "execute_result"
    }
   ],
   "source": [
    "st.rstrip()"
   ]
  },
  {
   "cell_type": "code",
   "execution_count": 69,
   "id": "60e90fdc-b297-4054-8667-d6d7cb788abe",
   "metadata": {},
   "outputs": [
    {
     "data": {
      "text/plain": [
       "2"
      ]
     },
     "execution_count": 69,
     "metadata": {},
     "output_type": "execute_result"
    }
   ],
   "source": [
    "ss=\"hello\"\n",
    "ss.find(\"l\",1)"
   ]
  },
  {
   "cell_type": "code",
   "execution_count": 70,
   "id": "8b8e2465-88fe-4633-9d1e-6ace18a5103b",
   "metadata": {},
   "outputs": [
    {
     "name": "stdout",
     "output_type": "stream",
     "text": [
      "h-e-l-l-o\n"
     ]
    }
   ],
   "source": [
    "ss=\"-\".join(\"hello\")\n",
    "print(ss)"
   ]
  }
 ],
 "metadata": {
  "kernelspec": {
   "display_name": "Python 3 (ipykernel)",
   "language": "python",
   "name": "python3"
  },
  "language_info": {
   "codemirror_mode": {
    "name": "ipython",
    "version": 3
   },
   "file_extension": ".py",
   "mimetype": "text/x-python",
   "name": "python",
   "nbconvert_exporter": "python",
   "pygments_lexer": "ipython3",
   "version": "3.12.4"
  }
 },
 "nbformat": 4,
 "nbformat_minor": 5
}
