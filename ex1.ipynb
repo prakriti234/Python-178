{
 "cells": [
  {
   "cell_type": "code",
   "execution_count": 2,
   "id": "85ebe150-381c-47e7-b480-7b36b5127a9c",
   "metadata": {},
   "outputs": [
    {
     "name": "stdout",
     "output_type": "stream",
     "text": [
      "Type of var1 is <class 'int'>\n",
      "Type of var2 is <class 'str'>\n",
      "Type of var3 is <class 'bool'>\n",
      "Type of var4 is <class 'float'>\n"
     ]
    }
   ],
   "source": [
    "# Program to demonstrate type checking of various data types\n",
    "var1=46\n",
    "var2=\"TREE\"\n",
    "var3=True\n",
    "var4=45.6\n",
    "print(\"Type of var1 is\" ,type(var1))\n",
    "print(\"Type of var2 is\" ,type(var2))\n",
    "print(\"Type of var3 is\" ,type(var3))\n",
    "print(\"Type of var4 is\" ,type(var4))"
   ]
  },
  {
   "cell_type": "code",
   "execution_count": 3,
   "id": "0537e1b1-0c3f-4f91-bbba-70a416d85390",
   "metadata": {},
   "outputs": [
    {
     "name": "stdin",
     "output_type": "stream",
     "text": [
      "Enter a number:  -45\n"
     ]
    },
    {
     "name": "stdout",
     "output_type": "stream",
     "text": [
      "Absolute value of num is  45\n"
     ]
    }
   ],
   "source": [
    "# Use of Built in func in python\n",
    "num = int(input(\"Enter a number: \"))\n",
    "print(\"Absolute value of num is \", abs(num))"
   ]
  },
  {
   "cell_type": "code",
   "execution_count": 5,
   "id": "133266cc-4cfd-4f09-907d-ab639e4d063e",
   "metadata": {},
   "outputs": [
    {
     "name": "stdin",
     "output_type": "stream",
     "text": [
      "Enter a number:  hello everyone\n"
     ]
    },
    {
     "name": "stdout",
     "output_type": "stream",
     "text": [
      "length of of num is  14\n"
     ]
    }
   ],
   "source": [
    "num = str(input(\"Enter a number: \"))\n",
    "print(\"length of of num is \", len(num))"
   ]
  },
  {
   "cell_type": "code",
   "execution_count": 6,
   "id": "ec3d69bf-15f0-47f3-ad8e-266b5e61d1a6",
   "metadata": {},
   "outputs": [
    {
     "name": "stdout",
     "output_type": "stream",
     "text": [
      "The smallest number in the lis is  5\n"
     ]
    }
   ],
   "source": [
    "numbers = [10, 20, 5, 30, 15]\n",
    "print(\"The smallest number in the lis is \",min(numbers))"
   ]
  },
  {
   "cell_type": "code",
   "execution_count": 8,
   "id": "397f9b5d-6ec2-4ef1-9dbb-a564ac24dca3",
   "metadata": {},
   "outputs": [
    {
     "name": "stdout",
     "output_type": "stream",
     "text": [
      "rounding number1 gives  8\n"
     ]
    }
   ],
   "source": [
    "number1 = 7.654\n",
    "print(\"rounding number1 gives \",round(number1))"
   ]
  },
  {
   "cell_type": "code",
   "execution_count": 11,
   "id": "506310a1-17ff-414e-9ca9-200aebe02744",
   "metadata": {},
   "outputs": [
    {
     "name": "stdout",
     "output_type": "stream",
     "text": [
      "True\n",
      "False\n"
     ]
    }
   ],
   "source": [
    "string1 = \"Hello123\"\n",
    "string2=\"dhdg@\"\n",
    "print(string1.isalnum())\n",
    "print(string2.isalnum())"
   ]
  },
  {
   "cell_type": "code",
   "execution_count": 13,
   "id": "31b0bfd7-6320-406c-82b7-1089cd3f7564",
   "metadata": {},
   "outputs": [
    {
     "name": "stdout",
     "output_type": "stream",
     "text": [
      "type of  var is  <class 'str'>\n"
     ]
    }
   ],
   "source": [
    "var=\"hello world\"\n",
    "print(\"type of  var is \",type(var))"
   ]
  }
 ],
 "metadata": {
  "kernelspec": {
   "display_name": "Python 3 (ipykernel)",
   "language": "python",
   "name": "python3"
  },
  "language_info": {
   "codemirror_mode": {
    "name": "ipython",
    "version": 3
   },
   "file_extension": ".py",
   "mimetype": "text/x-python",
   "name": "python",
   "nbconvert_exporter": "python",
   "pygments_lexer": "ipython3",
   "version": "3.12.4"
  }
 },
 "nbformat": 4,
 "nbformat_minor": 5
}
