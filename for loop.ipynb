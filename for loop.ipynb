{
 "cells": [
  {
   "cell_type": "code",
   "execution_count": 6,
   "id": "754f8a3e-4dc9-451b-92ea-272a28c75f77",
   "metadata": {},
   "outputs": [
    {
     "name": "stdout",
     "output_type": "stream",
     "text": [
      "7\n",
      "8\n",
      "9\n"
     ]
    }
   ],
   "source": [
    "w=[1,3,4,7,8,9,0]\n",
    "for f in w:\n",
    "    if f>5:\n",
    "        print(f)"
   ]
  },
  {
   "cell_type": "code",
   "execution_count": 8,
   "id": "587826f5-fdfe-452b-9440-80008c650406",
   "metadata": {},
   "outputs": [
    {
     "name": "stdout",
     "output_type": "stream",
     "text": [
      "4\n",
      "8\n",
      "0\n"
     ]
    }
   ],
   "source": [
    "w=[1,3,4,7,8,9,0]\n",
    "for f in w:\n",
    "    if f%2==0:\n",
    "        print(f)"
   ]
  },
  {
   "cell_type": "code",
   "execution_count": 11,
   "id": "3ac97931-08d9-4e42-a31c-ed06d1b45a9b",
   "metadata": {},
   "outputs": [
    {
     "name": "stdout",
     "output_type": "stream",
     "text": [
      "4\n",
      "5\n",
      "6\n"
     ]
    }
   ],
   "source": [
    "# extract ele between 3 and 7\n",
    "w=[2,3,4,5,6,7,8,9,9,0]\n",
    "for f in w:\n",
    "    if f>3 and f<7:\n",
    "        print(f)"
   ]
  },
  {
   "cell_type": "code",
   "execution_count": 14,
   "id": "8f7634e7-75e7-4d0e-8c12-86f7a5304a35",
   "metadata": {},
   "outputs": [
    {
     "name": "stdout",
     "output_type": "stream",
     "text": [
      "2 square is 4\n",
      "4 square is 16\n",
      "6 square is 36\n",
      "8 square is 64\n",
      "10 square is 100\n",
      "12 square is 144\n",
      "16 square is 256\n"
     ]
    }
   ],
   "source": [
    "# calculate the square of even elemnts\n",
    "w=[2,3,4,5,6,7,8,9,9,10,12,16]\n",
    "for f in w:\n",
    "    if f%2==0:\n",
    "        print(\"{} square is {}\".format(f,f**2))"
   ]
  },
  {
   "cell_type": "code",
   "execution_count": 19,
   "id": "a2c2fa18-df20-4649-b07d-cc917723a9bd",
   "metadata": {},
   "outputs": [
    {
     "name": "stdout",
     "output_type": "stream",
     "text": [
      "abhiniza\n",
      "aman\n",
      "aastha\n"
     ]
    }
   ],
   "source": [
    "name=[\"rohan\",\"abhiniza\",\"robin\",\"karan\",\"aman\",\"pankaj\",\"aastha\"]\n",
    "# print those name which start with a\n",
    "for w in name:\n",
    "    if w[0]==\"a\":\n",
    "            print(w)"
   ]
  },
  {
   "cell_type": "code",
   "execution_count": 20,
   "id": "c88c4cc7-5c2d-4ff9-8cc0-5ad5669b2b24",
   "metadata": {},
   "outputs": [
    {
     "name": "stdout",
     "output_type": "stream",
     "text": [
      "abhiniza\n",
      "aastha\n"
     ]
    }
   ],
   "source": [
    "for w in name:\n",
    "    if w[0]==\"a\" and w[-1]==\"a\":\n",
    "        print(w)"
   ]
  },
  {
   "cell_type": "code",
   "execution_count": 23,
   "id": "2c1200f9-1a18-418e-a582-6fe43f55e4c0",
   "metadata": {},
   "outputs": [
    {
     "name": "stdout",
     "output_type": "stream",
     "text": [
      "roha\n",
      "abhi\n",
      "robi\n",
      "kara\n",
      "aman\n",
      "pank\n",
      "aast\n"
     ]
    }
   ],
   "source": [
    "for w in name:\n",
    "    print(w[0:4])"
   ]
  },
  {
   "cell_type": "code",
   "execution_count": 30,
   "id": "50016c4e-71b9-4660-b2ec-384676520f1c",
   "metadata": {},
   "outputs": [
    {
     "name": "stdout",
     "output_type": "stream",
     "text": [
      "2000\n",
      "2004\n",
      "2008\n"
     ]
    }
   ],
   "source": [
    "# print all leap years\n",
    "year=[2000,2001,2002,2003,2004,2005,2006,2007,2008,2009,2010]\n",
    "for i in year:\n",
    "    if i%4==0 and i%100!=0 or i%400==0:\n",
    "        print(i)"
   ]
  },
  {
   "cell_type": "code",
   "execution_count": 42,
   "id": "9c1011ba-be72-49ad-b6f6-d388730b656c",
   "metadata": {},
   "outputs": [
    {
     "name": "stdout",
     "output_type": "stream",
     "text": [
      "9\n"
     ]
    }
   ],
   "source": [
    "# second highest ele\n",
    "s=[4,7,4,5,6,9,2,1,9,20,20]\n",
    "n=0\n",
    "for i in s:\n",
    "    if i>n and i<max(s):\n",
    "        n=i\n",
    "print(n)\n"
   ]
  },
  {
   "cell_type": "code",
   "execution_count": 43,
   "id": "79302763-4a91-46c9-804a-7bb8e0dd9cf5",
   "metadata": {},
   "outputs": [
    {
     "name": "stdout",
     "output_type": "stream",
     "text": [
      "9\n"
     ]
    }
   ],
   "source": [
    "# second highest ele\n",
    "s=[4,7,4,5,6,9,2,1,9,20,20]\n",
    "s.sort()\n",
    "index = -2\n",
    "for i in s:\n",
    "    if s[index] == max(s):\n",
    "        index-=1\n",
    "print(s[index])\n",
    "        "
   ]
  },
  {
   "cell_type": "code",
   "execution_count": 1,
   "id": "387608ce-a875-4759-9150-2226fa6e919c",
   "metadata": {},
   "outputs": [
    {
     "name": "stdout",
     "output_type": "stream",
     "text": [
      "hello\n",
      "how\n",
      "are\n",
      "you\n",
      "i\n",
      "am\n",
      "fibe\n",
      "what\n",
      "about\n",
      "you\n"
     ]
    }
   ],
   "source": [
    "s=\"hello how are you i am fibe what about you\"\n",
    "for i in s.split():\n",
    "    print(i)"
   ]
  },
  {
   "cell_type": "code",
   "execution_count": 11,
   "id": "7345c6fa-deae-4dc8-b553-8226af7a2136",
   "metadata": {},
   "outputs": [
    {
     "name": "stdout",
     "output_type": "stream",
     "text": [
      "2\n"
     ]
    }
   ],
   "source": [
    "count=0\n",
    "for i in s.split():\n",
    "  if i[0]==\"h\":\n",
    "      count+=1\n",
    "print(count)\n",
    "      \n",
    "     "
   ]
  },
  {
   "cell_type": "code",
   "execution_count": null,
   "id": "7dd8cc8c-db79-442f-8b44-1e0abf5a0122",
   "metadata": {},
   "outputs": [],
   "source": [
    "range(start,stop,step)\n",
    "range(0,10)\n"
   ]
  },
  {
   "cell_type": "code",
   "execution_count": 13,
   "id": "dbc12c35-8d48-4cdd-9609-50727d28e33f",
   "metadata": {},
   "outputs": [
    {
     "name": "stdout",
     "output_type": "stream",
     "text": [
      "0\n",
      "1\n",
      "2\n",
      "3\n",
      "4\n",
      "5\n"
     ]
    }
   ],
   "source": [
    "s=\"123456\"\n",
    "for j in range(len(s)):\n",
    "   print(j)"
   ]
  },
  {
   "cell_type": "code",
   "execution_count": 16,
   "id": "81400321-7265-4382-9014-23f74eb2c033",
   "metadata": {},
   "outputs": [
    {
     "name": "stdout",
     "output_type": "stream",
     "text": [
      "0\n",
      "2\n",
      "4\n"
     ]
    }
   ],
   "source": [
    "for i in range(0,len(s),2):\n",
    "    print(i)"
   ]
  },
  {
   "cell_type": "code",
   "execution_count": 18,
   "id": "3ae10eb1-00cd-4215-81b1-9c85926dfa44",
   "metadata": {},
   "outputs": [
    {
     "name": "stdout",
     "output_type": "stream",
     "text": [
      "10\n",
      "12\n",
      "14\n",
      "16\n",
      "18\n",
      "20\n",
      "22\n",
      "24\n",
      "26\n",
      "28\n",
      "30\n",
      "32\n",
      "34\n",
      "36\n",
      "38\n",
      "40\n",
      "42\n",
      "44\n",
      "46\n",
      "48\n",
      "50\n"
     ]
    }
   ],
   "source": [
    "# print all nos between 10 and 50\n",
    "for j in range(10,51,1):\n",
    "    if(j%2==0):\n",
    "       print(j)"
   ]
  },
  {
   "cell_type": "code",
   "execution_count": 25,
   "id": "ac1c4baf-7a2a-41b4-9922-64928f9d6fac",
   "metadata": {},
   "outputs": [
    {
     "name": "stdout",
     "output_type": "stream",
     "text": [
      "15\n",
      "25\n",
      "35\n",
      "45\n",
      "55\n",
      "65\n",
      "75\n",
      "85\n",
      "95\n"
     ]
    }
   ],
   "source": [
    "for j in range(10,100,1):\n",
    "    if(j%5==0 and j%10!=0):\n",
    "        print(j)\n",
    "     "
   ]
  },
  {
   "cell_type": "code",
   "execution_count": 27,
   "id": "3ab049eb-7426-46c4-a96d-a5793406179e",
   "metadata": {},
   "outputs": [
    {
     "name": "stdout",
     "output_type": "stream",
     "text": [
      "2 * 1 = 2\n",
      "2 * 2 = 4\n",
      "2 * 3 = 6\n",
      "2 * 4 = 8\n",
      "2 * 5 = 10\n",
      "2 * 6 = 12\n",
      "2 * 7 = 14\n",
      "2 * 8 = 16\n",
      "2 * 9 = 18\n",
      "2 * 10 = 20\n"
     ]
    }
   ],
   "source": [
    "for j in range(1,11):\n",
    "    print(\"2 * {} = {}\".format(j,2*j))"
   ]
  },
  {
   "cell_type": "code",
   "execution_count": 28,
   "id": "92a1424b-99cf-41e0-9dce-2beff4a550c1",
   "metadata": {},
   "outputs": [
    {
     "name": "stdout",
     "output_type": "stream",
     "text": [
      "[10, 12, 14, 16, 18, 20, 22, 24, 26, 28, 30, 32, 34, 36, 38, 40, 42, 44, 46, 48, 50]\n",
      "[11, 13, 15, 17, 19, 21, 23, 25, 27, 29, 31, 33, 35, 37, 39, 41, 43, 45, 47, 49]\n"
     ]
    }
   ],
   "source": [
    "# interview question\n",
    "# create 2 list and add even and odd digit in both list between 10 to 50\n",
    "l1=[]\n",
    "l2=[]\n",
    "for i in range(10,51):\n",
    "    if i%2==0:\n",
    "        l1.append(i)\n",
    "    elif i%2!=0:\n",
    "        l2.append(i)\n",
    "print(l1)\n",
    "print(l2)"
   ]
  },
  {
   "cell_type": "code",
   "execution_count": 31,
   "id": "5daff74a-1f0f-4f51-b3cd-a98f8b3d1e18",
   "metadata": {},
   "outputs": [
    {
     "name": "stdout",
     "output_type": "stream",
     "text": [
      "* \n",
      "* * \n",
      "* * * \n",
      "* * * * \n"
     ]
    }
   ],
   "source": [
    "for i in range(1,5):\n",
    "    print(\"* \"*i)"
   ]
  },
  {
   "cell_type": "code",
   "execution_count": 32,
   "id": "f3627f92-b9e3-4083-a94b-65b38ce0f643",
   "metadata": {},
   "outputs": [
    {
     "name": "stdout",
     "output_type": "stream",
     "text": [
      "****\n",
      "****\n",
      "****\n",
      "****\n"
     ]
    }
   ],
   "source": [
    "for i in range(4):\n",
    "    print(\"*\"*4)"
   ]
  },
  {
   "cell_type": "code",
   "execution_count": 1,
   "id": "ddf35fe4-1837-437b-a827-7613308559a6",
   "metadata": {},
   "outputs": [
    {
     "name": "stdout",
     "output_type": "stream",
     "text": [
      "******\n",
      "*****\n",
      "****\n",
      "***\n",
      "**\n",
      "*\n"
     ]
    }
   ],
   "source": [
    "for i in range(6,0,-1):\n",
    "    print(i*\"*\")"
   ]
  },
  {
   "cell_type": "code",
   "execution_count": 2,
   "id": "0cbed9f5-4d56-4ccd-a949-6bb55219870f",
   "metadata": {},
   "outputs": [
    {
     "name": "stdout",
     "output_type": "stream",
     "text": [
      "*****"
     ]
    }
   ],
   "source": [
    "for i in range(5):\n",
    "    print(\"*\",end=\"\")"
   ]
  },
  {
   "cell_type": "code",
   "execution_count": 6,
   "id": "38b9ab38-8486-4a76-ba7c-dd9074a7dfc9",
   "metadata": {},
   "outputs": [
    {
     "name": "stdout",
     "output_type": "stream",
     "text": [
      "9\n",
      "10\n",
      "11\n",
      "12\n",
      "13\n",
      "18\n",
      "20\n",
      "22\n",
      "24\n",
      "26\n"
     ]
    }
   ],
   "source": [
    "f=[1,2]\n",
    "h=[9,10,11,12,13]\n",
    "for i in f:\n",
    "    for j in h:\n",
    "        print(j*i)"
   ]
  },
  {
   "cell_type": "code",
   "execution_count": 8,
   "id": "bd21e816-99b4-4475-af3b-505f9d97bfb2",
   "metadata": {},
   "outputs": [
    {
     "name": "stdout",
     "output_type": "stream",
     "text": [
      "1 2 3 4 5 6 \n",
      "1 2 3 4 5 6 \n",
      "1 2 3 4 5 6 \n",
      "1 2 3 4 5 6 \n",
      "1 2 3 4 5 6 \n",
      "1 2 3 4 5 6 \n"
     ]
    }
   ],
   "source": [
    "f=[1,2,3,4,5,6]\n",
    "for i in f:\n",
    "    for j in f:\n",
    "        print(j,end=\" \")\n",
    "    print()\n",
    "        "
   ]
  },
  {
   "cell_type": "code",
   "execution_count": 11,
   "id": "0231f957-db3d-4416-a95a-a46d26710a3a",
   "metadata": {},
   "outputs": [
    {
     "name": "stdout",
     "output_type": "stream",
     "text": [
      "        * \n",
      "      * * \n",
      "    * * * \n",
      "  * * * * \n",
      "* * * * * \n"
     ]
    }
   ],
   "source": [
    "for i in range(1,6):\n",
    "    for j in range(1,6):\n",
    "        if j>=6-i:\n",
    "            print(\"*\",end=\" \")\n",
    "        else:\n",
    "            print(\" \",end=\" \")\n",
    "    print()"
   ]
  },
  {
   "cell_type": "code",
   "execution_count": 23,
   "id": "3078d0d4-e59c-4499-b8ea-2a9e589d4c93",
   "metadata": {},
   "outputs": [
    {
     "name": "stdout",
     "output_type": "stream",
     "text": [
      "1 2 3 4 5 \n",
      "  2 3 4 5 \n",
      "    3 4 5 \n",
      "      4 5 \n",
      "        5 \n"
     ]
    }
   ],
   "source": [
    "for i in range(1,6):\n",
    "    for j in range(1,6):\n",
    "      if j>=i:\n",
    "        print(j,end=\" \")\n",
    "      else:\n",
    "        print(\" \",end=\" \")\n",
    "    print()"
   ]
  },
  {
   "cell_type": "code",
   "execution_count": 24,
   "id": "4d37c757-5d5c-4647-b510-9dab97f19946",
   "metadata": {},
   "outputs": [
    {
     "name": "stdout",
     "output_type": "stream",
     "text": [
      "      *       \n",
      "    * * *     \n",
      "  * * * * *   \n",
      "* * * * * * * \n"
     ]
    }
   ],
   "source": [
    "for i in range(1,5):\n",
    "    for j in range(1,8):\n",
    "        if j>=5-i and j<=3+i:\n",
    "            print(\"*\",end=\" \")\n",
    "        else:\n",
    "            print(\" \",end=\" \")\n",
    "    print()"
   ]
  },
  {
   "cell_type": "code",
   "execution_count": 25,
   "id": "57403815-168f-47d5-9301-ebe4bb5f7bfb",
   "metadata": {},
   "outputs": [
    {
     "name": "stdout",
     "output_type": "stream",
     "text": [
      "* * * * * * * \n",
      "  * * * * *   \n",
      "    * * *     \n",
      "      *       \n"
     ]
    }
   ],
   "source": [
    "for i in range(4,0,-1):\n",
    "    for j in range(1,8):\n",
    "        if j>=5-i and j<=3+i:\n",
    "            print(\"*\",end=\" \")\n",
    "        else:\n",
    "            print(\" \",end=\" \")\n",
    "    print()"
   ]
  },
  {
   "cell_type": "code",
   "execution_count": 13,
   "id": "ad9252e6-c68e-4cf9-85bc-13eb32132a49",
   "metadata": {},
   "outputs": [
    {
     "name": "stdout",
     "output_type": "stream",
     "text": [
      "[1, 4, 9, 16, 25, 36, 49, 64, 81, 100, 121, 144, 169, 196]\n",
      "[1, 8, 27, 64, 125]\n"
     ]
    }
   ],
   "source": [
    "# create 2 list name them square and cube and add perfect square\n",
    "# between 1 and 200 in square list same with cube\n",
    "square=[]\n",
    "cubes=[]\n",
    "for i in range(1,200):\n",
    "    sqr=i**2\n",
    "    if sqr>=1 and sqr<=200:\n",
    "        square.append(sqr)\n",
    "    cube=i**3\n",
    "    if cube>=1 and cube<=200:\n",
    "        cubes.append(cube)\n",
    "print(square)\n",
    "print(cubes)"
   ]
  },
  {
   "cell_type": "code",
   "execution_count": 16,
   "id": "a23c6088-3169-4baf-b32e-f6c424aea8c8",
   "metadata": {},
   "outputs": [
    {
     "name": "stdout",
     "output_type": "stream",
     "text": [
      "akanksha : 8\n",
      "archit : 6\n",
      "aryan : 5\n",
      "kanka : 5\n",
      "lomesh : 6\n",
      "tushar : 6\n",
      "vinit : 5\n"
     ]
    }
   ],
   "source": [
    "# print all names from the list with the no.of char\n",
    "l1=[\"akanksha\",\"archit\",\"aryan\",\"kanka\",\"lomesh\",\"tushar\",\"vinit\"]\n",
    "for i in l1:\n",
    "    count=0\n",
    "    for j in i:\n",
    "        count+=1\n",
    "    print(\"{} : {}\".format(i,count))\n",
    "        "
   ]
  },
  {
   "cell_type": "code",
   "execution_count": 26,
   "id": "51d30397-5141-4c69-bcc7-d3d36c341aea",
   "metadata": {},
   "outputs": [
    {
     "name": "stdout",
     "output_type": "stream",
     "text": [
      "what : 1\n",
      "is : 2\n",
      "sql : 1\n",
      "and : 3\n",
      "why : 1\n",
      "is : 2\n",
      "it : 1\n",
      "important : 1\n",
      "in : 1\n",
      "data : 1\n",
      "science : 1\n",
      "and : 3\n",
      "explain : 1\n",
      "the : 1\n",
      "difference : 1\n",
      "between : 1\n",
      "a : 2\n",
      "database : 1\n",
      "and : 3\n",
      "a : 2\n",
      "table : 1\n"
     ]
    }
   ],
   "source": [
    "# count the occurrence of each word\n",
    "st1=\"\"\"what is sql and why is it important in data science and explain the difference between a database and a table\"\"\"\n",
    "for i in st1.split():\n",
    "    count=0\n",
    "    word=i\n",
    "    for j in st1.split():\n",
    "      if word==j:\n",
    "        count+=1\n",
    "    print(\"{} : {}\".format(word,count))"
   ]
  },
  {
   "cell_type": "code",
   "execution_count": 28,
   "id": "e3dbf050-d2f2-4c5f-ada3-efbeea2b0970",
   "metadata": {},
   "outputs": [
    {
     "data": {
      "text/plain": [
       "{'what': 1,\n",
       " 'is': 1,\n",
       " 'sql': 1,\n",
       " 'and': 1,\n",
       " 'why': 1,\n",
       " 'it': 1,\n",
       " 'important': 1,\n",
       " 'in': 1,\n",
       " 'data': 1,\n",
       " 'science': 1,\n",
       " 'explain': 1,\n",
       " 'the': 1,\n",
       " 'difference': 1,\n",
       " 'between': 1,\n",
       " 'a': 1,\n",
       " 'database': 1,\n",
       " 'table': 1}"
      ]
     },
     "execution_count": 28,
     "metadata": {},
     "output_type": "execute_result"
    }
   ],
   "source": [
    "d={}\n",
    "for i in st1.split():\n",
    "    if i not in d:\n",
    "        d[i]=1\n",
    "    else:\n",
    "        d[i]+1\n",
    "d"
   ]
  },
  {
   "cell_type": "code",
   "execution_count": 30,
   "id": "4df949f7-e1e5-48fb-9695-90f38e9304f3",
   "metadata": {},
   "outputs": [
    {
     "name": "stdout",
     "output_type": "stream",
     "text": [
      "what 1\n",
      "is 2\n",
      "sql 1\n",
      "and 3\n",
      "why 1\n",
      "is 2\n",
      "it 1\n",
      "important 1\n",
      "in 2\n",
      "data 2\n",
      "science 1\n",
      "and 3\n",
      "explain 1\n",
      "the 1\n",
      "difference 1\n",
      "between 1\n",
      "a 14\n",
      "database 1\n",
      "and 3\n",
      "a 14\n",
      "table 1\n"
     ]
    }
   ],
   "source": [
    "for i in st1.split():\n",
    "    print(i,st1.count(i))"
   ]
  },
  {
   "cell_type": "code",
   "execution_count": 34,
   "id": "db095c2b-d219-465c-a241-c3d038291f62",
   "metadata": {},
   "outputs": [
    {
     "name": "stdout",
     "output_type": "stream",
     "text": [
      "akanksha\n"
     ]
    }
   ],
   "source": [
    "# print the longest name from the list\n",
    "names=[\"akanksha\",\"archit\",\"aryan\",\"vidhi\"]\n",
    "n=\" \"\n",
    "for i in names:\n",
    "    if(len(i)>len(n)):\n",
    "     n=i\n",
    "print(n)"
   ]
  }
 ],
 "metadata": {
  "kernelspec": {
   "display_name": "Python 3 (ipykernel)",
   "language": "python",
   "name": "python3"
  },
  "language_info": {
   "codemirror_mode": {
    "name": "ipython",
    "version": 3
   },
   "file_extension": ".py",
   "mimetype": "text/x-python",
   "name": "python",
   "nbconvert_exporter": "python",
   "pygments_lexer": "ipython3",
   "version": "3.12.4"
  }
 },
 "nbformat": 4,
 "nbformat_minor": 5
}
