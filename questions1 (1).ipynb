{
 "cells": [
  {
   "cell_type": "code",
   "execution_count": 1,
   "id": "0e92bbae-3bc4-4965-9db7-adfe6877d964",
   "metadata": {},
   "outputs": [
    {
     "name": "stdout",
     "output_type": "stream",
     "text": [
      "7396\n"
     ]
    }
   ],
   "source": [
    "# q1\n",
    "print(86**2)"
   ]
  },
  {
   "cell_type": "code",
   "execution_count": 2,
   "id": "b423ab78-55dd-4723-a511-6c59a035a0d4",
   "metadata": {},
   "outputs": [
    {
     "name": "stdout",
     "output_type": "stream",
     "text": [
      "9.224791357467582\n"
     ]
    }
   ],
   "source": [
    "# q2\n",
    "print(785**(1/3))"
   ]
  },
  {
   "cell_type": "code",
   "execution_count": 3,
   "id": "22299da8-46e0-4131-bb5f-645283a42633",
   "metadata": {},
   "outputs": [
    {
     "name": "stdout",
     "output_type": "stream",
     "text": [
      "265 hours 8 min\n"
     ]
    }
   ],
   "source": [
    "# q3\n",
    "print(\"{} hours {} min\".format(15908//60,15908%60))"
   ]
  },
  {
   "cell_type": "code",
   "execution_count": 4,
   "id": "a02ca19a-54b0-4144-b0ec-a1bdc60c4ae1",
   "metadata": {},
   "outputs": [
    {
     "name": "stdout",
     "output_type": "stream",
     "text": [
      "107 days 11 hours\n"
     ]
    }
   ],
   "source": [
    "# q4\n",
    "print(\"{} days {} hours\".format((154783//60)//24,(154783//60)%24))"
   ]
  },
  {
   "cell_type": "code",
   "execution_count": 5,
   "id": "e1179b41-2dd8-490f-b1a8-f478542393b4",
   "metadata": {},
   "outputs": [
    {
     "data": {
      "text/plain": [
       "95"
      ]
     },
     "execution_count": 5,
     "metadata": {},
     "output_type": "execute_result"
    }
   ],
   "source": [
    "h=\"95\"\n",
    "int(95)\n"
   ]
  },
  {
   "cell_type": "code",
   "execution_count": null,
   "id": "506cf653-faae-4523-bef0-b5fbae6ff30d",
   "metadata": {},
   "outputs": [],
   "source": [
    "p=input()\n",
    "print(p)"
   ]
  }
 ],
 "metadata": {
  "kernelspec": {
   "display_name": "Python 3 (ipykernel)",
   "language": "python",
   "name": "python3"
  },
  "language_info": {
   "codemirror_mode": {
    "name": "ipython",
    "version": 3
   },
   "file_extension": ".py",
   "mimetype": "text/x-python",
   "name": "python",
   "nbconvert_exporter": "python",
   "pygments_lexer": "ipython3",
   "version": "3.12.4"
  }
 },
 "nbformat": 4,
 "nbformat_minor": 5
}
