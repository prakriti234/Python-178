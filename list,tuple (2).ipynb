{
 "cells": [
  {
   "cell_type": "markdown",
   "id": "641129f1-6c85-434d-885b-e2ece72ff3cd",
   "metadata": {},
   "source": [
    "# list: it is an ordered collection of elements and can store all types of data"
   ]
  },
  {
   "cell_type": "code",
   "execution_count": 3,
   "id": "8a2831e8-f2a0-4b54-8eed-13c705b1ffa6",
   "metadata": {},
   "outputs": [
    {
     "data": {
      "text/plain": [
       "[0, 1, 2, 4, 3, 7, 6]"
      ]
     },
     "execution_count": 3,
     "metadata": {},
     "output_type": "execute_result"
    }
   ],
   "source": [
    "w=[0,1,2,4,3,7,6]\n",
    "type(w)\n",
    "w"
   ]
  },
  {
   "cell_type": "code",
   "execution_count": 5,
   "id": "4e04266a-5749-4e5f-96a6-3317ed1ca11b",
   "metadata": {},
   "outputs": [
    {
     "data": {
      "text/plain": [
       "[0, 1, 2, 4, 3, 7, 6, 88, 88]"
      ]
     },
     "execution_count": 5,
     "metadata": {},
     "output_type": "execute_result"
    }
   ],
   "source": [
    "w.append(88)\n",
    "w"
   ]
  },
  {
   "cell_type": "code",
   "execution_count": 6,
   "id": "41a9d663-f8e6-46f7-9808-20886d93a440",
   "metadata": {},
   "outputs": [
    {
     "data": {
      "text/plain": [
       "[1, 1.5, 'string', True]"
      ]
     },
     "execution_count": 6,
     "metadata": {},
     "output_type": "execute_result"
    }
   ],
   "source": [
    "q=[1,1.5,\"string\",True]\n",
    "q"
   ]
  },
  {
   "cell_type": "code",
   "execution_count": 7,
   "id": "ebeca084-864e-4dd4-bb8e-52606c71feb8",
   "metadata": {},
   "outputs": [
    {
     "data": {
      "text/plain": [
       "11"
      ]
     },
     "execution_count": 7,
     "metadata": {},
     "output_type": "execute_result"
    }
   ],
   "source": [
    "l1=[0,1,2,3,4,5,6,7,8,9,10]\n",
    "len(l1)"
   ]
  },
  {
   "cell_type": "code",
   "execution_count": 8,
   "id": "f63aaf3c-ce3d-4bcf-a06b-0cfc1be26447",
   "metadata": {},
   "outputs": [
    {
     "data": {
      "text/plain": [
       "1"
      ]
     },
     "execution_count": 8,
     "metadata": {},
     "output_type": "execute_result"
    }
   ],
   "source": [
    "l1.count(4)"
   ]
  },
  {
   "cell_type": "code",
   "execution_count": 10,
   "id": "1c6740f1-d48c-41d7-b95d-e71c8bf35ea2",
   "metadata": {},
   "outputs": [
    {
     "data": {
      "text/plain": [
       "[0, 1, 2, 4, 5, 6, 7, 8, 9]"
      ]
     },
     "execution_count": 10,
     "metadata": {},
     "output_type": "execute_result"
    }
   ],
   "source": [
    "l1.pop(3)\n",
    "l1"
   ]
  },
  {
   "cell_type": "code",
   "execution_count": 11,
   "id": "ab6bfa69-1761-49d4-bf98-6e4dc62796d0",
   "metadata": {},
   "outputs": [
    {
     "data": {
      "text/plain": [
       "[0, 1, 300, 2, 4, 5, 6, 7, 8, 9]"
      ]
     },
     "execution_count": 11,
     "metadata": {},
     "output_type": "execute_result"
    }
   ],
   "source": [
    "l1.insert(2,300)\n",
    "l1"
   ]
  },
  {
   "cell_type": "code",
   "execution_count": 12,
   "id": "a29480b1-3513-4711-affd-3fd1ce79d267",
   "metadata": {},
   "outputs": [
    {
     "data": {
      "text/plain": [
       "[0, 1, 300, 2, 4, 5, 6, 7, 8, 9, 45, 68, 12]"
      ]
     },
     "execution_count": 12,
     "metadata": {},
     "output_type": "execute_result"
    }
   ],
   "source": [
    "l1.extend([45,68,12])\n",
    "l1"
   ]
  },
  {
   "cell_type": "code",
   "execution_count": 13,
   "id": "3fcda3df-8bf4-4de9-acb8-32bd5243c2a7",
   "metadata": {},
   "outputs": [],
   "source": [
    "l1.remove(300)"
   ]
  },
  {
   "cell_type": "code",
   "execution_count": 14,
   "id": "4ac027eb-bbf3-44c0-a2ad-46b2393f4132",
   "metadata": {},
   "outputs": [
    {
     "data": {
      "text/plain": [
       "[0, 1, 2, 4, 5, 6, 7, 8, 9, 45, 68, 12]"
      ]
     },
     "execution_count": 14,
     "metadata": {},
     "output_type": "execute_result"
    }
   ],
   "source": [
    "l1"
   ]
  },
  {
   "cell_type": "code",
   "execution_count": 17,
   "id": "81563540-b215-4297-aad5-8110e849f770",
   "metadata": {},
   "outputs": [
    {
     "data": {
      "text/plain": [
       "[12, 68, 45, 9, 8, 7, 6, 5, 4, 2, 1, 0]"
      ]
     },
     "execution_count": 17,
     "metadata": {},
     "output_type": "execute_result"
    }
   ],
   "source": [
    "l1.reverse()\n",
    "l1"
   ]
  },
  {
   "cell_type": "code",
   "execution_count": 19,
   "id": "d1c5f623-2cf1-44e5-9373-5d8d80b4c902",
   "metadata": {},
   "outputs": [
    {
     "data": {
      "text/plain": [
       "[0, 1, 2, 4, 5, 6, 7, 8, 9, 12, 45, 68]"
      ]
     },
     "execution_count": 19,
     "metadata": {},
     "output_type": "execute_result"
    }
   ],
   "source": [
    "l1.sort()\n",
    "l1"
   ]
  },
  {
   "cell_type": "code",
   "execution_count": 21,
   "id": "3d82e18b-9585-452a-9f82-fa8fb27f45b5",
   "metadata": {},
   "outputs": [
    {
     "data": {
      "text/plain": [
       "[68, 45, 12, 9, 8, 7, 6, 5, 4, 2, 1, 0]"
      ]
     },
     "execution_count": 21,
     "metadata": {},
     "output_type": "execute_result"
    }
   ],
   "source": [
    "l1.sort(reverse=True)\n",
    "l1"
   ]
  },
  {
   "cell_type": "code",
   "execution_count": 22,
   "id": "5e6cdef4-7c8f-4a17-b429-c7c291ad16a0",
   "metadata": {},
   "outputs": [
    {
     "data": {
      "text/plain": [
       "8"
      ]
     },
     "execution_count": 22,
     "metadata": {},
     "output_type": "execute_result"
    }
   ],
   "source": [
    "l1.index(4)"
   ]
  },
  {
   "cell_type": "code",
   "execution_count": 23,
   "id": "ddd0ffa6-02a9-45c7-b1c3-e0450c516fcd",
   "metadata": {},
   "outputs": [
    {
     "data": {
      "text/plain": [
       "[]"
      ]
     },
     "execution_count": 23,
     "metadata": {},
     "output_type": "execute_result"
    }
   ],
   "source": [
    "l1.clear()\n",
    "l1"
   ]
  },
  {
   "cell_type": "code",
   "execution_count": 24,
   "id": "1114f374-7010-48e1-8099-3fa2b39d7fac",
   "metadata": {},
   "outputs": [],
   "source": [
    "l1=[2,34,67,3,1]"
   ]
  },
  {
   "cell_type": "code",
   "execution_count": 25,
   "id": "7439561d-9745-428c-8701-06d9cbff8f34",
   "metadata": {},
   "outputs": [
    {
     "data": {
      "text/plain": [
       "[2, 4, 67, 3, 1]"
      ]
     },
     "execution_count": 25,
     "metadata": {},
     "output_type": "execute_result"
    }
   ],
   "source": [
    "l1[1]=4\n",
    "l1"
   ]
  },
  {
   "cell_type": "code",
   "execution_count": 35,
   "id": "8982e207-f6ee-482b-9bb6-97305d5c4785",
   "metadata": {},
   "outputs": [],
   "source": [
    "q=[1,1.5,'string',89,False,[1,2,3,'new',False]]"
   ]
  },
  {
   "cell_type": "code",
   "execution_count": 32,
   "id": "3d9161c9-048d-43aa-b766-7dc4ee2b874a",
   "metadata": {},
   "outputs": [
    {
     "data": {
      "text/plain": [
       "[1, 2, 3, 'new', False]"
      ]
     },
     "execution_count": 32,
     "metadata": {},
     "output_type": "execute_result"
    }
   ],
   "source": [
    "k=q[5]\n",
    "k"
   ]
  },
  {
   "cell_type": "code",
   "execution_count": 33,
   "id": "c5a40db5-fadd-4920-960a-abd0393c9ec7",
   "metadata": {},
   "outputs": [
    {
     "data": {
      "text/plain": [
       "'new'"
      ]
     },
     "execution_count": 33,
     "metadata": {},
     "output_type": "execute_result"
    }
   ],
   "source": [
    "k[3]"
   ]
  },
  {
   "cell_type": "code",
   "execution_count": 37,
   "id": "0e4f9c50-dbbf-4df5-a31e-0d7c67d06514",
   "metadata": {},
   "outputs": [
    {
     "data": {
      "text/plain": [
       "'new'"
      ]
     },
     "execution_count": 37,
     "metadata": {},
     "output_type": "execute_result"
    }
   ],
   "source": [
    "q[5][3]"
   ]
  },
  {
   "cell_type": "code",
   "execution_count": 38,
   "id": "bd022d07-512d-494d-9c7f-24cbea3703af",
   "metadata": {},
   "outputs": [
    {
     "data": {
      "text/plain": [
       "[1, 1.5, 3, 89, False, [1, 2, 3, 'new', False]]"
      ]
     },
     "execution_count": 38,
     "metadata": {},
     "output_type": "execute_result"
    }
   ],
   "source": [
    "q[2]=3\n",
    "q"
   ]
  },
  {
   "cell_type": "code",
   "execution_count": 39,
   "id": "b760d7ea-92d2-45c2-80bb-f9dee6f31f22",
   "metadata": {},
   "outputs": [
    {
     "data": {
      "text/plain": [
       "[1, 1.5, 3, 89, False, [1, 2, 3, 5, False]]"
      ]
     },
     "execution_count": 39,
     "metadata": {},
     "output_type": "execute_result"
    }
   ],
   "source": [
    "q[5][3]=5\n",
    "q"
   ]
  },
  {
   "cell_type": "code",
   "execution_count": 67,
   "id": "3c70180c-03a0-49dc-8d36-5dcde15d5a5a",
   "metadata": {},
   "outputs": [],
   "source": [
    "r=[4,5,7,[4,2,0,3,5,\"todey\",4],478,\"string\"]"
   ]
  },
  {
   "cell_type": "code",
   "execution_count": 70,
   "id": "b3fc67e9-c437-4d88-b9a2-b1bc3be66421",
   "metadata": {},
   "outputs": [],
   "source": [
    "r[3][5]=r[3][5].replace(\"e\",\"a\")"
   ]
  },
  {
   "cell_type": "code",
   "execution_count": 71,
   "id": "a8d9791a-10db-473f-a818-5e9c41a5cd21",
   "metadata": {},
   "outputs": [
    {
     "data": {
      "text/plain": [
       "[4, 5, 7, [4, 2, 0, 3, 5, 'today', 4], 478, 'string']"
      ]
     },
     "execution_count": 71,
     "metadata": {},
     "output_type": "execute_result"
    }
   ],
   "source": [
    "r"
   ]
  },
  {
   "cell_type": "code",
   "execution_count": null,
   "id": "39bd7747-7aa7-4ddb-a427-b02cb3833c68",
   "metadata": {},
   "outputs": [],
   "source": [
    "# TUPLE :It is an ordered collection of elements using () and is not mutable"
   ]
  },
  {
   "cell_type": "code",
   "execution_count": 1,
   "id": "eef74dcc-3ccc-4fdd-b650-65e53f006f45",
   "metadata": {},
   "outputs": [
    {
     "data": {
      "text/plain": [
       "tuple"
      ]
     },
     "execution_count": 1,
     "metadata": {},
     "output_type": "execute_result"
    }
   ],
   "source": [
    "t=()\n",
    "type(t)"
   ]
  },
  {
   "cell_type": "code",
   "execution_count": 16,
   "id": "10eab6b5-30f7-4be5-978a-dce7d8b60419",
   "metadata": {},
   "outputs": [
    {
     "data": {
      "text/plain": [
       "(2, 1, 3, 4, 5, 6, 'string', True)"
      ]
     },
     "execution_count": 16,
     "metadata": {},
     "output_type": "execute_result"
    }
   ],
   "source": [
    "e=(2,1,3,4,5,6,\"string\",True)\n",
    "e"
   ]
  },
  {
   "cell_type": "code",
   "execution_count": 15,
   "id": "11fcbad8-a39f-4409-b7aa-bd5d139e39cd",
   "metadata": {},
   "outputs": [
    {
     "data": {
      "text/plain": [
       "1"
      ]
     },
     "execution_count": 15,
     "metadata": {},
     "output_type": "execute_result"
    }
   ],
   "source": [
    "e.count(1)"
   ]
  },
  {
   "cell_type": "code",
   "execution_count": 7,
   "id": "9611280e-1158-4c5b-af12-5616d5dd51be",
   "metadata": {},
   "outputs": [
    {
     "data": {
      "text/plain": [
       "2"
      ]
     },
     "execution_count": 7,
     "metadata": {},
     "output_type": "execute_result"
    }
   ],
   "source": [
    "e.index(3)"
   ]
  },
  {
   "cell_type": "code",
   "execution_count": 12,
   "id": "89722aed-df3d-423b-9ae3-da3e78d5231d",
   "metadata": {},
   "outputs": [
    {
     "data": {
      "text/plain": [
       "(2, 1, 3, 4, 5, 6, 'string', True)"
      ]
     },
     "execution_count": 12,
     "metadata": {},
     "output_type": "execute_result"
    }
   ],
   "source": [
    "e"
   ]
  },
  {
   "cell_type": "code",
   "execution_count": null,
   "id": "a79a8cb5-0c56-4428-b90c-5a1c177d90c9",
   "metadata": {},
   "outputs": [],
   "source": [
    "# list and tuple\n",
    "# []        ()\n",
    "# mutable   immutable\n"
   ]
  },
  {
   "cell_type": "code",
   "execution_count": 17,
   "id": "8c136643-8284-4532-abb5-cc5998c18322",
   "metadata": {},
   "outputs": [
    {
     "data": {
      "text/plain": [
       "set"
      ]
     },
     "execution_count": 17,
     "metadata": {},
     "output_type": "execute_result"
    }
   ],
   "source": [
    "# SET : It is an unordered collection of unique elements. It doesnt contain any duplicate ele.There is no indexing and slicing\n",
    "s=set()\n",
    "type(s)"
   ]
  },
  {
   "cell_type": "code",
   "execution_count": 25,
   "id": "7e3480e6-edc1-4ed2-b1d4-088900a598eb",
   "metadata": {},
   "outputs": [
    {
     "data": {
      "text/plain": [
       "{3, 4, 6, 8, 9}"
      ]
     },
     "execution_count": 25,
     "metadata": {},
     "output_type": "execute_result"
    }
   ],
   "source": [
    "s={4,8,9,9,6,3}\n",
    "s"
   ]
  },
  {
   "cell_type": "code",
   "execution_count": 21,
   "id": "c038b50e-7c89-4410-a40e-aa6acde5a5bd",
   "metadata": {},
   "outputs": [
    {
     "data": {
      "text/plain": [
       "{3, 4, 6, 8, 9}"
      ]
     },
     "execution_count": 21,
     "metadata": {},
     "output_type": "execute_result"
    }
   ],
   "source": [
    "s.difference()"
   ]
  },
  {
   "cell_type": "code",
   "execution_count": 22,
   "id": "639adc75-ba25-418f-a6cd-6f8a4c748e9b",
   "metadata": {},
   "outputs": [
    {
     "data": {
      "text/plain": [
       "{3, 4, 6, 8, 9}"
      ]
     },
     "execution_count": 22,
     "metadata": {},
     "output_type": "execute_result"
    }
   ],
   "source": [
    "s.intersection()"
   ]
  },
  {
   "cell_type": "code",
   "execution_count": 26,
   "id": "56d237ea-02a9-4a03-b6e3-b0df1f15ec4b",
   "metadata": {},
   "outputs": [
    {
     "data": {
      "text/plain": [
       "3"
      ]
     },
     "execution_count": 26,
     "metadata": {},
     "output_type": "execute_result"
    }
   ],
   "source": [
    "s.pop() #remove a random element"
   ]
  },
  {
   "cell_type": "code",
   "execution_count": null,
   "id": "aca64012-51b3-452a-b56b-56dd8ecbf56f",
   "metadata": {},
   "outputs": [],
   "source": [
    "s.symmetric_difference()"
   ]
  },
  {
   "cell_type": "code",
   "execution_count": 49,
   "id": "f6006f23-532f-4992-a03a-dbf46eba84f4",
   "metadata": {},
   "outputs": [],
   "source": [
    "s1={1,2,3,4,5,6,7,500,600}\n",
    "s2={11,12,33,44,4,5,6,9,500}"
   ]
  },
  {
   "cell_type": "code",
   "execution_count": 29,
   "id": "9e3d797b-1c93-4da2-8a88-fbbb23113d83",
   "metadata": {},
   "outputs": [
    {
     "data": {
      "text/plain": [
       "{1, 2, 3, 7, 600}"
      ]
     },
     "execution_count": 29,
     "metadata": {},
     "output_type": "execute_result"
    }
   ],
   "source": [
    "s1.difference(s2) #it display unique values of s1 not in s2"
   ]
  },
  {
   "cell_type": "code",
   "execution_count": 30,
   "id": "7a9acf9a-09f3-4dd8-b5d9-501aba4a5ee4",
   "metadata": {},
   "outputs": [
    {
     "data": {
      "text/plain": [
       "{9, 11, 12, 33, 44}"
      ]
     },
     "execution_count": 30,
     "metadata": {},
     "output_type": "execute_result"
    }
   ],
   "source": [
    "s2.difference(s1)"
   ]
  },
  {
   "cell_type": "code",
   "execution_count": 31,
   "id": "ea46765f-f375-4705-822b-e559fa935a6c",
   "metadata": {},
   "outputs": [
    {
     "data": {
      "text/plain": [
       "{1, 2, 3, 4, 5, 6, 7, 500, 600}"
      ]
     },
     "execution_count": 31,
     "metadata": {},
     "output_type": "execute_result"
    }
   ],
   "source": [
    "s1.intersection(s1) #it prints common elements of both sets"
   ]
  },
  {
   "cell_type": "code",
   "execution_count": 32,
   "id": "ff84d03a-1b03-4f88-b8f3-b18d81287d71",
   "metadata": {},
   "outputs": [
    {
     "data": {
      "text/plain": [
       "{1, 2, 3, 7, 9, 11, 12, 33, 44, 600}"
      ]
     },
     "execution_count": 32,
     "metadata": {},
     "output_type": "execute_result"
    }
   ],
   "source": [
    "s1.symmetric_difference(s2)"
   ]
  },
  {
   "cell_type": "code",
   "execution_count": 33,
   "id": "c839ffd0-471c-4d58-9c3a-c8a46d320217",
   "metadata": {},
   "outputs": [
    {
     "data": {
      "text/plain": [
       "{1, 2, 3, 4, 5, 6, 7, 9, 11, 12, 33, 44, 500, 600}"
      ]
     },
     "execution_count": 33,
     "metadata": {},
     "output_type": "execute_result"
    }
   ],
   "source": [
    "s1.union(s2) #it joins both sets but doesn't save"
   ]
  },
  {
   "cell_type": "code",
   "execution_count": 43,
   "id": "fffecf29-268c-46e3-b4b6-2d73fb828f23",
   "metadata": {},
   "outputs": [
    {
     "data": {
      "text/plain": [
       "{1, 2, 3, 4, 5, 6, 7, 9, 11, 12, 33, 44, 500, 600}"
      ]
     },
     "execution_count": 43,
     "metadata": {},
     "output_type": "execute_result"
    }
   ],
   "source": [
    "s2.update(s1) #it updates the s2 and saves the ele\n",
    "s2"
   ]
  },
  {
   "cell_type": "code",
   "execution_count": 50,
   "id": "be4428fd-e375-4ec0-a36a-5987a3ec1e5b",
   "metadata": {},
   "outputs": [
    {
     "data": {
      "text/plain": [
       "{1, 2, 3, 4, 5, 6, 7, 600}"
      ]
     },
     "execution_count": 50,
     "metadata": {},
     "output_type": "execute_result"
    }
   ],
   "source": [
    "s1.discard(500)\n",
    "s1"
   ]
  },
  {
   "cell_type": "code",
   "execution_count": 51,
   "id": "590276ef-a097-420a-9344-18f43eff6b73",
   "metadata": {},
   "outputs": [
    {
     "data": {
      "text/plain": [
       "{1, 2, 3, 4, 5, 6, 7}"
      ]
     },
     "execution_count": 51,
     "metadata": {},
     "output_type": "execute_result"
    }
   ],
   "source": [
    "s1.remove(600)\n",
    "s1"
   ]
  },
  {
   "cell_type": "code",
   "execution_count": 53,
   "id": "9d0edee7-bfca-4fa3-ac98-18fdcc47d242",
   "metadata": {},
   "outputs": [
    {
     "data": {
      "text/plain": [
       "dict"
      ]
     },
     "execution_count": 53,
     "metadata": {},
     "output_type": "execute_result"
    }
   ],
   "source": [
    "#DICTIONARY : It is a pair of keys and values\n",
    "d={}\n",
    "type(d)"
   ]
  },
  {
   "cell_type": "code",
   "execution_count": 55,
   "id": "aed2734e-eb3b-470a-9cfc-d046aed0834d",
   "metadata": {},
   "outputs": [
    {
     "data": {
      "text/plain": [
       "{'name': ['a', 'b', 'c'], 'age': [22, 25, 26]}"
      ]
     },
     "execution_count": 55,
     "metadata": {},
     "output_type": "execute_result"
    }
   ],
   "source": [
    "d={\"name\" :[\"a\",\"b\",\"c\"],\n",
    "  \"age\": [22,25,26]}\n",
    "d"
   ]
  },
  {
   "cell_type": "code",
   "execution_count": null,
   "id": "64cc6661-8839-4dc8-8f5f-36c115206cb5",
   "metadata": {},
   "outputs": [],
   "source": [
    "d1={\"name\":(\"a\",\"b\",\"c\"),\n",
    "   \"age\":(22,33,44)}"
   ]
  },
  {
   "cell_type": "code",
   "execution_count": 56,
   "id": "bfaa915a-2299-4e81-bcc8-03f83e0f684b",
   "metadata": {},
   "outputs": [
    {
     "data": {
      "text/plain": [
       "dict_keys(['name', 'age'])"
      ]
     },
     "execution_count": 56,
     "metadata": {},
     "output_type": "execute_result"
    }
   ],
   "source": [
    "d.keys() #print keys"
   ]
  },
  {
   "cell_type": "code",
   "execution_count": 57,
   "id": "a65cfb0e-7a36-4401-be5d-682ee047231f",
   "metadata": {},
   "outputs": [
    {
     "data": {
      "text/plain": [
       "dict_values([['a', 'b', 'c'], [22, 25, 26]])"
      ]
     },
     "execution_count": 57,
     "metadata": {},
     "output_type": "execute_result"
    }
   ],
   "source": [
    "d.values()"
   ]
  },
  {
   "cell_type": "code",
   "execution_count": 59,
   "id": "964af779-81e8-4ff0-8a8d-9e87d5da5a9d",
   "metadata": {},
   "outputs": [
    {
     "data": {
      "text/plain": [
       "'a'"
      ]
     },
     "execution_count": 59,
     "metadata": {},
     "output_type": "execute_result"
    }
   ],
   "source": [
    "d[\"name\"][0]"
   ]
  },
  {
   "cell_type": "code",
   "execution_count": 61,
   "id": "67075ba4-b27c-40d9-99ac-413d67e3c943",
   "metadata": {},
   "outputs": [
    {
     "data": {
      "text/plain": [
       "{'name': ['a', 'b', 'c', 'd', 'd'], 'age': [22, 25, 26]}"
      ]
     },
     "execution_count": 61,
     "metadata": {},
     "output_type": "execute_result"
    }
   ],
   "source": [
    "d[\"name\"].append(\"d\")\n",
    "d"
   ]
  },
  {
   "cell_type": "code",
   "execution_count": 71,
   "id": "e7881f52-2f4b-4e2e-8a8d-c1b3aed45303",
   "metadata": {},
   "outputs": [],
   "source": [
    "w={\"id\":[1001,1002,1003,1004,1005],\n",
    "  \"location\":[\"delhi\",\"noida\",\"jaipur\",\"pune\",\"mumbai\"],\n",
    "  \"job\":[\"DS\",\"analyst\",\"HR\",\"Manager\"]}"
   ]
  },
  {
   "cell_type": "code",
   "execution_count": 73,
   "id": "61e35ab8-78fe-4d3c-a290-4130c847f26e",
   "metadata": {},
   "outputs": [
    {
     "data": {
      "text/plain": [
       "{'id': [1001, 1002, 1003, 1004, 1005],\n",
       " 'location': ['delhi', 'jammu', 'kashmir', 'pune', 'mumbai'],\n",
       " 'job': ['DS', 'analyst', 'HR', 'Manager']}"
      ]
     },
     "execution_count": 73,
     "metadata": {},
     "output_type": "execute_result"
    }
   ],
   "source": [
    "w[\"location\"][1:3]=[\"jammu\",\"kashmir\"]\n",
    "w"
   ]
  },
  {
   "cell_type": "code",
   "execution_count": 8,
   "id": "d6940d59-3aab-47e0-845d-f42c23ddf2c5",
   "metadata": {},
   "outputs": [
    {
     "data": {
      "text/plain": [
       "{'ID': [1441, 1442, 1443, 1445], 'JOB': ['HR', 'Manager', 'CA', 'CS']}"
      ]
     },
     "execution_count": 8,
     "metadata": {},
     "output_type": "execute_result"
    }
   ],
   "source": [
    "r={\"ID\":[1441,1442,1443,1445],\n",
    "  \"JOB\":[\"HR\",\"Manager\",\"CA\",\"CS\"]}\n",
    "r"
   ]
  },
  {
   "cell_type": "code",
   "execution_count": 3,
   "id": "a7c2b830-1063-48d8-b373-0993548dc327",
   "metadata": {},
   "outputs": [
    {
     "data": {
      "text/plain": [
       "dict_values([[1441, 1442, 1443, 1445], ['HR', 'Manager', 'CA', 'CS']])"
      ]
     },
     "execution_count": 3,
     "metadata": {},
     "output_type": "execute_result"
    }
   ],
   "source": [
    "r.values()"
   ]
  },
  {
   "cell_type": "code",
   "execution_count": 4,
   "id": "5a210652-8943-413a-b4a5-89bead847a08",
   "metadata": {},
   "outputs": [
    {
     "data": {
      "text/plain": [
       "[1441, 1442, 1443, 1445]"
      ]
     },
     "execution_count": 4,
     "metadata": {},
     "output_type": "execute_result"
    }
   ],
   "source": [
    "r[\"ID\"]"
   ]
  },
  {
   "cell_type": "code",
   "execution_count": 5,
   "id": "26710500-e080-45a6-abc7-639e5871f722",
   "metadata": {},
   "outputs": [
    {
     "data": {
      "text/plain": [
       "{'ID': [1441, 1442, 1443, 1445, 1446], 'JOB': ['HR', 'Manager', 'CA', 'CS']}"
      ]
     },
     "execution_count": 5,
     "metadata": {},
     "output_type": "execute_result"
    }
   ],
   "source": [
    "r[\"ID\"].append(1446) #insert at end\n",
    "r"
   ]
  },
  {
   "cell_type": "code",
   "execution_count": 6,
   "id": "138fe1e0-7ff6-4849-ba40-9d02c855e97b",
   "metadata": {},
   "outputs": [
    {
     "data": {
      "text/plain": [
       "{'ID': [1440, 1441, 1442, 1443, 1445, 1446],\n",
       " 'JOB': ['HR', 'Manager', 'CA', 'CS']}"
      ]
     },
     "execution_count": 6,
     "metadata": {},
     "output_type": "execute_result"
    }
   ],
   "source": [
    "# insert at particular index\n",
    "r[\"ID\"].insert(0,1440)\n",
    "r"
   ]
  },
  {
   "cell_type": "code",
   "execution_count": 10,
   "id": "12dd60bd-056c-4b70-b9c0-2c023c43097c",
   "metadata": {},
   "outputs": [
    {
     "data": {
      "text/plain": [
       "{'ID': [1000, 1442, 1443, 1445], 'JOB': ['HR', 'Manager', 'CA', 'CS']}"
      ]
     },
     "execution_count": 10,
     "metadata": {},
     "output_type": "execute_result"
    }
   ],
   "source": [
    "r[\"ID\"][0]=1000 #replace\n",
    "r"
   ]
  },
  {
   "cell_type": "code",
   "execution_count": 11,
   "id": "509ad2e8-2b60-4a21-bfc3-429f9c75cad4",
   "metadata": {},
   "outputs": [
    {
     "data": {
      "text/plain": [
       "1445"
      ]
     },
     "execution_count": 11,
     "metadata": {},
     "output_type": "execute_result"
    }
   ],
   "source": [
    "#delete any value\n",
    "r[\"ID\"].pop()"
   ]
  },
  {
   "cell_type": "code",
   "execution_count": 12,
   "id": "2238b127-482f-4534-b264-17d5021d328f",
   "metadata": {},
   "outputs": [],
   "source": [
    "r[\"ID\"].remove(1443)"
   ]
  },
  {
   "cell_type": "code",
   "execution_count": 13,
   "id": "d38470cd-3550-4b77-8559-4b123607f1fe",
   "metadata": {},
   "outputs": [
    {
     "data": {
      "text/plain": [
       "{'ID': [1000, 1442], 'JOB': ['HR', 'Manager', 'CA', 'CS']}"
      ]
     },
     "execution_count": 13,
     "metadata": {},
     "output_type": "execute_result"
    }
   ],
   "source": [
    "r"
   ]
  },
  {
   "cell_type": "code",
   "execution_count": null,
   "id": "7a01f7be-b0bd-4092-85c9-12eb705be010",
   "metadata": {},
   "outputs": [],
   "source": []
  }
 ],
 "metadata": {
  "kernelspec": {
   "display_name": "Python 3 (ipykernel)",
   "language": "python",
   "name": "python3"
  },
  "language_info": {
   "codemirror_mode": {
    "name": "ipython",
    "version": 3
   },
   "file_extension": ".py",
   "mimetype": "text/x-python",
   "name": "python",
   "nbconvert_exporter": "python",
   "pygments_lexer": "ipython3",
   "version": "3.12.4"
  }
 },
 "nbformat": 4,
 "nbformat_minor": 5
}
